{
 "cells": [
  {
   "cell_type": "code",
   "execution_count": 1,
   "metadata": {},
   "outputs": [
    {
     "name": "stderr",
     "output_type": "stream",
     "text": [
      "D:\\Anaconda\\envs\\PythonData\\lib\\site-packages\\smart_open\\smart_open_lib.py:398: UserWarning: This function is deprecated, use smart_open.open instead. See the migration notes for details: https://github.com/RaRe-Technologies/smart_open/blob/master/README.rst#migrating-to-the-new-open-function\n",
      "  'See the migration notes for details: %s' % _MIGRATION_NOTES_URL\n"
     ]
    }
   ],
   "source": [
    "from gensim.models import Word2Vec\n",
    "from gensim import models\n",
    "import gensim\n",
    "import pandas as pd\n",
    "import os\n",
    "from bs4 import BeautifulSoup\n",
    "import re\n",
    "from nltk.corpus import stopwords\n",
    "from sklearn.metrics import classification_report, confusion_matrix, roc_auc_score, roc_curve\n",
    "import numpy as np  # Make sure that numpy is imported\n",
    "from sklearn.cluster import KMeans\n",
    "import time\n",
    "\n",
    "model = Word2Vec.load(\"300features_40minwords_10context\")"
   ]
  },
  {
   "cell_type": "code",
   "execution_count": 2,
   "metadata": {},
   "outputs": [
    {
     "name": "stderr",
     "output_type": "stream",
     "text": [
      "D:\\Anaconda\\envs\\PythonData\\lib\\site-packages\\ipykernel_launcher.py:1: DeprecationWarning: Call to deprecated `most_similar` (Method will be removed in 4.0.0, use self.wv.most_similar() instead).\n",
      "  \"\"\"Entry point for launching an IPython kernel.\n"
     ]
    },
    {
     "data": {
      "text/plain": [
       "[('terrible', 0.7653412818908691),\n",
       " ('horrible', 0.7354335188865662),\n",
       " ('abysmal', 0.7140626907348633),\n",
       " ('dreadful', 0.713903546333313),\n",
       " ('atrocious', 0.7132828235626221),\n",
       " ('horrendous', 0.6752372980117798),\n",
       " ('horrid', 0.6706846356391907),\n",
       " ('appalling', 0.6625896692276001),\n",
       " ('laughable', 0.6240285634994507),\n",
       " ('amateurish', 0.6178346872329712)]"
      ]
     },
     "execution_count": 2,
     "metadata": {},
     "output_type": "execute_result"
    }
   ],
   "source": [
    "model.most_similar(\"awful\")"
   ]
  },
  {
   "cell_type": "code",
   "execution_count": 3,
   "metadata": {},
   "outputs": [
    {
     "name": "stderr",
     "output_type": "stream",
     "text": [
      "D:\\Anaconda\\envs\\PythonData\\lib\\site-packages\\ipykernel_launcher.py:1: DeprecationWarning: Call to deprecated `syn0` (Attribute will be removed in 4.0.0, use self.vectors instead).\n",
      "  \"\"\"Entry point for launching an IPython kernel.\n"
     ]
    },
    {
     "data": {
      "text/plain": [
       "(16490, 300)"
      ]
     },
     "execution_count": 3,
     "metadata": {},
     "output_type": "execute_result"
    }
   ],
   "source": [
    "model.wv.syn0.shape"
   ]
  },
  {
   "cell_type": "code",
   "execution_count": 4,
   "metadata": {},
   "outputs": [
    {
     "name": "stderr",
     "output_type": "stream",
     "text": [
      "D:\\Anaconda\\envs\\PythonData\\lib\\site-packages\\ipykernel_launcher.py:1: DeprecationWarning: Call to deprecated `__getitem__` (Method will be removed in 4.0.0, use self.wv.__getitem__() instead).\n",
      "  \"\"\"Entry point for launching an IPython kernel.\n"
     ]
    },
    {
     "data": {
      "text/plain": [
       "array([-9.40895155e-02,  7.75069883e-03, -4.43649292e-02, -2.99042650e-02,\n",
       "       -5.17895482e-02,  4.81346585e-02, -5.68473637e-02, -9.62749943e-02,\n",
       "       -1.24056647e-02, -1.51469475e-02,  8.59379917e-02, -5.55642098e-02,\n",
       "       -5.23529500e-02, -1.02777071e-02, -1.22859791e-01, -2.55358815e-02,\n",
       "       -4.69389185e-02,  4.37662229e-02, -6.43464923e-02,  5.12221307e-02,\n",
       "        6.98277429e-02, -5.01920953e-02,  8.77969936e-02,  4.34962921e-02,\n",
       "        6.99577630e-02,  3.65460292e-02,  6.50715665e-04, -3.90566140e-02,\n",
       "        4.43493389e-02, -1.33912131e-01,  1.05285764e-01,  6.07794151e-02,\n",
       "        1.01269968e-01,  9.50731430e-03,  6.89700916e-02,  1.07852658e-02,\n",
       "        1.77229487e-03,  1.78899504e-02, -4.50990945e-02,  7.01271091e-03,\n",
       "        1.96310431e-02,  4.35354523e-02, -1.55095076e-02,  3.85648035e-03,\n",
       "        3.65503132e-02, -7.81727508e-02, -1.87888350e-02, -1.26106113e-01,\n",
       "       -1.69923995e-02,  1.16207078e-01, -2.41300184e-02,  1.34462658e-02,\n",
       "       -6.77878559e-02,  5.10272160e-02,  3.36456746e-02, -3.00960336e-02,\n",
       "       -6.25792565e-03,  2.66007297e-02, -6.03764355e-02,  1.21508203e-02,\n",
       "        8.65851063e-03,  2.70360895e-03,  3.66533622e-02,  1.23895071e-02,\n",
       "        5.59902079e-02,  3.27193551e-02,  2.46510860e-02,  1.75578296e-02,\n",
       "       -5.97901456e-02, -1.36152245e-02,  3.71973887e-02,  5.08766323e-02,\n",
       "        8.64513684e-03,  1.13554215e-02, -2.11736895e-02,  1.16694365e-02,\n",
       "        6.89933077e-02,  2.51427386e-02,  3.98553386e-02, -4.28296775e-02,\n",
       "        5.49905263e-02,  6.86323419e-02, -1.02157146e-01,  5.23128249e-02,\n",
       "       -4.16519344e-02, -4.42043953e-02,  9.34454724e-02, -1.07322425e-01,\n",
       "        6.15421981e-02,  6.16249926e-02, -4.20355285e-03, -8.37322548e-02,\n",
       "       -1.10064879e-01, -6.57000840e-02, -4.16427515e-02, -5.07220291e-02,\n",
       "        2.87666644e-05, -4.72003520e-02,  4.51125614e-02, -1.71471853e-02,\n",
       "        2.17631180e-02, -5.35146054e-03,  1.78160034e-02,  5.37757762e-03,\n",
       "        5.18267378e-02, -7.04196468e-02,  8.53347853e-02,  2.23137103e-02,\n",
       "        5.03022745e-02, -7.92490244e-02,  6.54380098e-02, -1.29336491e-02,\n",
       "       -1.86275933e-02,  3.55344824e-02, -1.91841945e-02, -2.92993281e-02,\n",
       "        3.56188975e-02,  8.24104175e-02, -2.51426939e-02,  1.09160021e-02,\n",
       "       -6.07043020e-02, -1.01789497e-02, -7.70894205e-03, -1.27465054e-01,\n",
       "        1.28477411e-02, -1.56063335e-02, -2.04952732e-02, -3.42572965e-02,\n",
       "        3.50282365e-03,  1.18115952e-03,  1.06584996e-01,  6.71631768e-02,\n",
       "        2.92093791e-02,  1.15427123e-02, -4.01152819e-02, -8.11538752e-03,\n",
       "        3.24315205e-02, -2.08560824e-02, -1.59384236e-02, -8.02050233e-02,\n",
       "       -1.10228537e-02, -9.07856319e-03,  3.16622704e-02,  6.85655400e-02,\n",
       "        4.56103077e-03, -5.88850789e-02,  6.80495575e-02,  2.66278796e-02,\n",
       "        3.99043374e-02, -8.43791571e-03,  7.15097934e-02,  9.72138122e-02,\n",
       "        2.75096651e-02, -6.67384220e-03,  5.12220450e-02,  3.11822281e-03,\n",
       "        4.26969007e-02,  1.11596510e-02,  3.55961882e-02, -5.46782948e-02,\n",
       "       -6.82912022e-02, -1.03805125e-01,  6.58310484e-03, -2.95052119e-02,\n",
       "       -4.13404815e-02, -1.79883856e-02,  3.30757648e-02, -1.35463431e-01,\n",
       "       -1.26911849e-01,  1.06487181e-02, -4.03419547e-02, -7.12199435e-02,\n",
       "        6.18151017e-02,  2.16166936e-02,  9.80765522e-02,  1.23977974e-01,\n",
       "        2.09090114e-02, -7.51204789e-02, -1.26211355e-02,  1.45142982e-02,\n",
       "       -9.76277366e-02,  2.43257489e-02,  1.85743012e-02,  3.20481211e-02,\n",
       "       -9.25786346e-02,  6.94919974e-02, -2.59761177e-02, -2.16898303e-02,\n",
       "        2.01675296e-02,  5.35822660e-03,  3.02762743e-02, -1.28042102e-01,\n",
       "       -1.68422554e-02,  4.29312438e-02, -2.16843747e-02, -9.33262259e-02,\n",
       "        4.63616103e-02, -8.91017821e-03, -5.05876988e-02, -9.55860168e-02,\n",
       "        4.00027595e-02,  1.08260207e-01,  5.52192144e-02,  2.17478909e-02,\n",
       "       -5.34954965e-02, -1.31794801e-02, -1.06167421e-01,  9.73498151e-02,\n",
       "        1.09901309e-01,  6.40603825e-02,  3.55390757e-02,  2.42694709e-02,\n",
       "       -1.07480593e-01, -6.20373674e-02, -6.39002845e-02,  1.22927604e-02,\n",
       "        3.57045792e-02,  2.46889219e-02,  2.60061324e-02,  8.19041044e-04,\n",
       "        3.44450213e-02,  4.90340181e-02,  2.68697031e-02,  6.10645451e-02,\n",
       "        3.76128182e-02,  3.33046056e-02,  5.23615330e-02,  9.39352736e-02,\n",
       "        5.84325418e-02, -8.70699883e-02,  8.93583894e-02,  2.65554003e-02,\n",
       "       -2.59490591e-02, -3.96757312e-02, -5.22690304e-02,  3.25002968e-02,\n",
       "       -8.61436427e-02,  9.23839062e-02, -6.15645293e-03, -1.12965681e-01,\n",
       "       -4.54453044e-02,  1.01169832e-01, -1.49477338e-02, -6.73192516e-02,\n",
       "        3.57675999e-02,  8.98895040e-03, -1.95699986e-02, -5.45892399e-03,\n",
       "       -5.20197414e-02, -5.10903448e-02,  3.31385955e-02,  2.18866765e-03,\n",
       "       -5.69288693e-02,  9.97126028e-02,  5.87259717e-02,  3.77498046e-02,\n",
       "       -9.17143077e-02,  2.58304421e-02,  1.08966671e-01, -7.36117214e-02,\n",
       "        5.92942834e-02, -7.63170421e-03, -4.91304044e-03, -6.87836558e-02,\n",
       "        1.55272484e-01, -2.72545256e-02,  5.20516559e-02, -1.19828768e-02,\n",
       "       -1.65323112e-02,  3.83552238e-02,  6.85440795e-03, -6.25574403e-03,\n",
       "        4.34252396e-02,  1.42841160e-01,  2.10792758e-02, -1.14490064e-02,\n",
       "        9.17436630e-02, -6.75712749e-02,  1.75792556e-02, -1.27709862e-02,\n",
       "       -8.46765563e-02,  4.59534349e-03, -1.89927258e-02,  8.26518238e-02,\n",
       "        1.43053597e-02,  4.90459614e-02, -2.23811492e-02,  1.80247379e-03,\n",
       "       -1.07602715e-01,  5.69967143e-02,  8.01593661e-02, -4.14635465e-02,\n",
       "        5.76282218e-02,  8.28406662e-02, -6.13169111e-02,  7.41914706e-03,\n",
       "        4.71105278e-02, -1.09891463e-02,  1.80982664e-01,  5.46766706e-02],\n",
       "      dtype=float32)"
      ]
     },
     "execution_count": 4,
     "metadata": {},
     "output_type": "execute_result"
    }
   ],
   "source": [
    "model[\"flower\"]"
   ]
  },
  {
   "cell_type": "code",
   "execution_count": 5,
   "metadata": {},
   "outputs": [],
   "source": [
    "def makeFeatureVec(words, model, num_features):\n",
    "    # Function to average all of the word vectors in a given paragraph\n",
    "    featureVec = np.zeros((num_features,),dtype=\"float32\")\n",
    "    nwords = 0.\n",
    "    # \n",
    "    # Index2word is a list that contains the names of the words in the model's vocabulary\n",
    "    index2word_set = set(model.wv.index2word)\n",
    "    #\n",
    "    # Loop through words, if it is in the model's vocaublary, add its feature vector to the total\n",
    "    for word in words:\n",
    "        if word in index2word_set: \n",
    "            nwords = nwords + 1.\n",
    "            featureVec = np.add(featureVec,model[word])\n",
    "    # \n",
    "    # Divide the result by the number of words to get the average\n",
    "    featureVec = np.divide(featureVec,nwords)\n",
    "    return featureVec"
   ]
  },
  {
   "cell_type": "code",
   "execution_count": 6,
   "metadata": {},
   "outputs": [],
   "source": [
    "def getAvgFeatureVecs(reviews, model, num_features):\n",
    "    # Given a set of reviews (each one a list of words), calculate \n",
    "    # the average feature vector for each one and return a 2D numpy array \n",
    "    # \n",
    "    counter = 0\n",
    "    counter = int(counter)\n",
    "    reviewFeatureVecs = np.zeros((len(reviews),num_features),dtype=\"float32\")\n",
    "    \n",
    "    # Loop through the reviews\n",
    "    for review in reviews:\n",
    "       # Print a status message every 1000th review\n",
    "        if counter%1000. == 0.:\n",
    "            print(\"Review %d of %d\" % (counter, len(reviews)))\n",
    "        \n",
    "       # Call the function (defined above) that makes average feature vectors, increment the counter\n",
    "        reviewFeatureVecs[counter] = makeFeatureVec(review, model, num_features)\n",
    "        counter = counter + 1\n",
    "        \n",
    "    return reviewFeatureVecs"
   ]
  },
  {
   "cell_type": "code",
   "execution_count": 7,
   "metadata": {},
   "outputs": [],
   "source": [
    "train = pd.read_csv('labeledTrainData.tsv\\labeledTrainData.tsv', header=0, delimiter=\"\\t\", quoting=3 )\n",
    "test = pd.read_csv('testData.tsv', header=0, delimiter=\"\\t\", quoting=3 )"
   ]
  },
  {
   "cell_type": "code",
   "execution_count": 8,
   "metadata": {},
   "outputs": [],
   "source": [
    "num_features = 300 # Word vector dimensionality\n",
    "min_word_count = 40 # Minimum word count\n",
    "num_workers = 4 # Threads\n",
    "context = 10 # Context window size\n",
    "downsampling = 1e-3 # Downsampling setting fro frequent words"
   ]
  },
  {
   "cell_type": "code",
   "execution_count": 9,
   "metadata": {},
   "outputs": [],
   "source": [
    "def review_to_wordlist( review, remove_stopwords=False ):\n",
    "    # Function to convert a document to a sequence of words,\n",
    "    # optionally removing stop words.  Returns a list of words.\n",
    "    review_text = BeautifulSoup(review,\"lxml\").get_text()\n",
    "    review_text = re.sub(\"[^a-zA-Z]\",\" \", review_text)\n",
    "    words = review_text.lower().split()\n",
    "    \n",
    "    # Optionally remove stop words (false by default)\n",
    "    if remove_stopwords:\n",
    "        stops = set(stopwords.words(\"english\"))\n",
    "        words = [w for w in words if not w in stops]\n",
    "\n",
    "    return(words)"
   ]
  },
  {
   "cell_type": "code",
   "execution_count": 10,
   "metadata": {},
   "outputs": [
    {
     "name": "stdout",
     "output_type": "stream",
     "text": [
      "Review 0 of 25000\n"
     ]
    },
    {
     "name": "stderr",
     "output_type": "stream",
     "text": [
      "D:\\Anaconda\\envs\\PythonData\\lib\\site-packages\\ipykernel_launcher.py:13: DeprecationWarning: Call to deprecated `__getitem__` (Method will be removed in 4.0.0, use self.wv.__getitem__() instead).\n",
      "  del sys.path[0]\n"
     ]
    },
    {
     "name": "stdout",
     "output_type": "stream",
     "text": [
      "Review 1000 of 25000\n",
      "Review 2000 of 25000\n",
      "Review 3000 of 25000\n",
      "Review 4000 of 25000\n",
      "Review 5000 of 25000\n",
      "Review 6000 of 25000\n",
      "Review 7000 of 25000\n",
      "Review 8000 of 25000\n",
      "Review 9000 of 25000\n",
      "Review 10000 of 25000\n",
      "Review 11000 of 25000\n",
      "Review 12000 of 25000\n",
      "Review 13000 of 25000\n",
      "Review 14000 of 25000\n",
      "Review 15000 of 25000\n",
      "Review 16000 of 25000\n",
      "Review 17000 of 25000\n",
      "Review 18000 of 25000\n",
      "Review 19000 of 25000\n",
      "Review 20000 of 25000\n",
      "Review 21000 of 25000\n",
      "Review 22000 of 25000\n",
      "Review 23000 of 25000\n",
      "Review 24000 of 25000\n",
      "Creating average feature vecs for test reviews\n",
      "Review 0 of 25000\n",
      "Review 1000 of 25000\n",
      "Review 2000 of 25000\n",
      "Review 3000 of 25000\n",
      "Review 4000 of 25000\n",
      "Review 5000 of 25000\n",
      "Review 6000 of 25000\n",
      "Review 7000 of 25000\n",
      "Review 8000 of 25000\n",
      "Review 9000 of 25000\n",
      "Review 10000 of 25000\n",
      "Review 11000 of 25000\n",
      "Review 12000 of 25000\n",
      "Review 13000 of 25000\n",
      "Review 14000 of 25000\n",
      "Review 15000 of 25000\n",
      "Review 16000 of 25000\n",
      "Review 17000 of 25000\n",
      "Review 18000 of 25000\n",
      "Review 19000 of 25000\n",
      "Review 20000 of 25000\n",
      "Review 21000 of 25000\n",
      "Review 22000 of 25000\n",
      "Review 23000 of 25000\n",
      "Review 24000 of 25000\n"
     ]
    }
   ],
   "source": [
    "# ****************************************************************\n",
    "# Calculate average feature vectors for training and testing sets,\n",
    "# using the functions we defined above. Use stop word removal.\n",
    "\n",
    "clean_train_reviews = []\n",
    "for review in train[\"review\"]:\n",
    "    clean_train_reviews.append( review_to_wordlist( review, remove_stopwords=True ))\n",
    "\n",
    "trainDataVecs = getAvgFeatureVecs( clean_train_reviews, model, num_features )\n",
    "\n",
    "print(\"Creating average feature vecs for test reviews\")\n",
    "clean_test_reviews = []\n",
    "for review in test[\"review\"]:\n",
    "    clean_test_reviews.append( review_to_wordlist( review, remove_stopwords=True ))\n",
    "\n",
    "testDataVecs = getAvgFeatureVecs( clean_test_reviews, model, num_features )"
   ]
  },
  {
   "cell_type": "code",
   "execution_count": 11,
   "metadata": {},
   "outputs": [
    {
     "name": "stdout",
     "output_type": "stream",
     "text": [
      "Fitting a random forest to labeled training data...\n"
     ]
    }
   ],
   "source": [
    "# Fit a random forest to the training data, using 100 trees\n",
    "from sklearn.ensemble import RandomForestClassifier\n",
    "forest = RandomForestClassifier( n_estimators = 100 )\n",
    "\n",
    "print(\"Fitting a random forest to labeled training data...\")\n",
    "forest = forest.fit( trainDataVecs, train[\"sentiment\"] )\n",
    "result = forest.predict( testDataVecs )\n",
    "\n",
    "# Test results \n",
    "output = pd.DataFrame( data={\"id\":test[\"id\"], \"sentiment\":result} )\n",
    "output.to_csv( \"Word2Vec_AverageVectors.csv\", index=False, quoting=3 )"
   ]
  },
  {
   "cell_type": "code",
   "execution_count": 12,
   "metadata": {},
   "outputs": [
    {
     "name": "stdout",
     "output_type": "stream",
     "text": [
      "[1 0 1 ... 1 1 0]\n",
      "              precision    recall  f1-score   support\n",
      "\n",
      "           0       1.00      1.00      1.00     12341\n",
      "           1       1.00      1.00      1.00     12659\n",
      "\n",
      "   micro avg       1.00      1.00      1.00     25000\n",
      "   macro avg       1.00      1.00      1.00     25000\n",
      "weighted avg       1.00      1.00      1.00     25000\n",
      "\n",
      "[[12341     0]\n",
      " [    0 12659]]\n"
     ]
    }
   ],
   "source": [
    "print(forest.predict( testDataVecs ))\n",
    "print(classification_report(output['sentiment'], result))\n",
    "print(confusion_matrix(output['sentiment'], result))"
   ]
  },
  {
   "cell_type": "code",
   "execution_count": 13,
   "metadata": {},
   "outputs": [
    {
     "name": "stderr",
     "output_type": "stream",
     "text": [
      "D:\\Anaconda\\envs\\PythonData\\lib\\site-packages\\ipykernel_launcher.py:3: DeprecationWarning: Call to deprecated `syn0` (Attribute will be removed in 4.0.0, use self.vectors instead).\n",
      "  This is separate from the ipykernel package so we can avoid doing imports until\n"
     ]
    },
    {
     "name": "stdout",
     "output_type": "stream",
     "text": [
      "Time taken for K Means clustering:  623.7197349071503 seconds.\n"
     ]
    }
   ],
   "source": [
    "start = time.time() \n",
    "# Set \"k\" (num_clusters) to be average of 5 words per cluster\n",
    "word_vectors = model.wv.syn0\n",
    "num_clusters = int(word_vectors.shape[0] / 5)\n",
    "\n",
    "# Initalize a k-means object and use it to extract centroids\n",
    "kmeans_clustering = KMeans( n_clusters = num_clusters )\n",
    "idx = kmeans_clustering.fit_predict( word_vectors )\n",
    "\n",
    "# Get the end time and print how long the process took\n",
    "end = time.time()\n",
    "elapsed = end - start\n",
    "print(\"Time taken for K Means clustering: \", elapsed, \"seconds.\")"
   ]
  },
  {
   "cell_type": "code",
   "execution_count": 14,
   "metadata": {},
   "outputs": [],
   "source": [
    "# Create a Word / Index dictionary, mapping each vocabulary word to a cluster number                                                                                            \n",
    "word_centroid_map = dict(zip( model.wv.index2word, idx ))"
   ]
  },
  {
   "cell_type": "code",
   "execution_count": 15,
   "metadata": {},
   "outputs": [
    {
     "name": "stdout",
     "output_type": "stream",
     "text": [
      "\n",
      "Cluster 0\n",
      "['solidly']\n",
      "\n",
      "Cluster 1\n",
      "['carla', 'pauline', 'rosa', 'manu', 'elena', 'auteuil']\n",
      "\n",
      "Cluster 2\n",
      "['beethoven', 'barber']\n",
      "\n",
      "Cluster 3\n",
      "['narrated', 'guided']\n",
      "\n",
      "Cluster 4\n",
      "['un', 'similarly', 'stunningly', 'astonishingly', 'strikingly', 'portraits', 'overwhelmingly']\n",
      "\n",
      "Cluster 5\n",
      "['jury', 'election', 'coup', 'presidential', 'council', 'division', 'candidates', 'reserve', 'sisko', 'amendment']\n",
      "\n",
      "Cluster 6\n",
      "['sights', 'pipes']\n",
      "\n",
      "Cluster 7\n",
      "['prejudices', 'assumptions', 'sympathies']\n",
      "\n",
      "Cluster 8\n",
      "['maverick', 'stagecoach', 'elevated', 'bray', 'tumble']\n",
      "\n",
      "Cluster 9\n",
      "['vanessa', 'dakota', 'fanning', 'paige', 'chloe', 'lucinda']\n",
      "\n",
      "Cluster 10\n",
      "['sabotage', 'resurrect', 'thwart']\n",
      "\n",
      "Cluster 11\n",
      "['dialogs', 'dialogues', 'scripting']\n",
      "\n",
      "Cluster 12\n",
      "['strained', 'articulate', 'profane', 'overplayed', 'talkative', 'unintelligent', 'notoriously', 'didactic', 'unsophisticated', 'moralizing', 'disingenuous']\n",
      "\n",
      "Cluster 13\n",
      "['premier', 'january', 'flopped']\n",
      "\n",
      "Cluster 14\n",
      "['bitch', 'stripper', 'hunk', 'bimbo', 'slut', 'weirdo', 'vamp', 'slutty', 'homely', 'dominatrix']\n"
     ]
    }
   ],
   "source": [
    "# For the first 10 clusters\n",
    "for cluster in range(0,15):\n",
    "    #\n",
    "    # Print the cluster number  \n",
    "    print(\"\\nCluster %d\" % cluster)\n",
    "    #\n",
    "    # Find all of the words for that cluster number, and print them out\n",
    "    words = []\n",
    "    for i in range(0,len(list(word_centroid_map.values()))):\n",
    "        if( list(word_centroid_map.values())[i] == cluster ):\n",
    "            words.append(list(word_centroid_map)[i])\n",
    "    print(words)"
   ]
  },
  {
   "cell_type": "code",
   "execution_count": 16,
   "metadata": {},
   "outputs": [],
   "source": [
    "def create_bag_of_centroids( wordlist, word_centroid_map ):\n",
    "    # The number of clusters is equal to the highest cluster index\n",
    "    # in the word / centroid map\n",
    "    num_centroids = max( word_centroid_map.values() ) + 1\n",
    "    #\n",
    "    # Pre-allocate the bag of centroids vector (for speed)\n",
    "    bag_of_centroids = np.zeros( num_centroids, dtype=\"float32\" )\n",
    "    #\n",
    "    # Loop over the words. If the word is in the vocabulary,\n",
    "    # find which cluster it belongs to, and increment that cluster count \n",
    "    # by one\n",
    "    for word in wordlist:\n",
    "        if word in word_centroid_map:\n",
    "            index = word_centroid_map[word]\n",
    "            bag_of_centroids[index] += 1\n",
    "\n",
    "    return bag_of_centroids"
   ]
  },
  {
   "cell_type": "code",
   "execution_count": 17,
   "metadata": {},
   "outputs": [],
   "source": [
    "# Pre-allocate an array for the training set bags of centroids (for speed)\n",
    "train_centroids = np.zeros( (train[\"review\"].size, num_clusters), \\\n",
    "    dtype=\"float32\" )\n",
    "\n",
    "# Transform the training set reviews into bags of centroids\n",
    "counter = 0\n",
    "for review in clean_train_reviews:\n",
    "    train_centroids[counter] = create_bag_of_centroids( review, \\\n",
    "        word_centroid_map )\n",
    "    counter += 1\n",
    "\n",
    "# Repeat for test reviews \n",
    "test_centroids = np.zeros(( test[\"review\"].size, num_clusters), \\\n",
    "    dtype=\"float32\" )\n",
    "\n",
    "counter = 0\n",
    "for review in clean_test_reviews:\n",
    "    test_centroids[counter] = create_bag_of_centroids( review, \\\n",
    "        word_centroid_map )\n",
    "    counter += 1"
   ]
  },
  {
   "cell_type": "code",
   "execution_count": 18,
   "metadata": {},
   "outputs": [
    {
     "name": "stdout",
     "output_type": "stream",
     "text": [
      "Fitting a random forest to labeled training data...\n"
     ]
    }
   ],
   "source": [
    "# Fit a random forest and extract predictions \n",
    "forest = RandomForestClassifier(n_estimators = 100)\n",
    "\n",
    "# Fitting the forest may take a few minutes\n",
    "print(\"Fitting a random forest to labeled training data...\")\n",
    "forest = forest.fit(train_centroids,train[\"sentiment\"])\n",
    "result = forest.predict(test_centroids)\n",
    "\n",
    "# Write the test results \n",
    "output = pd.DataFrame(data={\"id\":test[\"id\"], \"sentiment\":result})\n",
    "output.to_csv( \"BagOfCentroids.csv\", index=False, quoting=3 )"
   ]
  },
  {
   "cell_type": "code",
   "execution_count": 19,
   "metadata": {},
   "outputs": [
    {
     "name": "stdout",
     "output_type": "stream",
     "text": [
      "[1 0 1 ... 0 1 1]\n",
      "              precision    recall  f1-score   support\n",
      "\n",
      "           0       1.00      1.00      1.00     12871\n",
      "           1       1.00      1.00      1.00     12129\n",
      "\n",
      "   micro avg       1.00      1.00      1.00     25000\n",
      "   macro avg       1.00      1.00      1.00     25000\n",
      "weighted avg       1.00      1.00      1.00     25000\n",
      "\n",
      "[[12871     0]\n",
      " [    0 12129]]\n"
     ]
    }
   ],
   "source": [
    "print(result)\n",
    "print(classification_report(output['sentiment'], result))\n",
    "print(confusion_matrix(output['sentiment'], result))"
   ]
  },
  {
   "cell_type": "code",
   "execution_count": null,
   "metadata": {},
   "outputs": [],
   "source": []
  },
  {
   "cell_type": "code",
   "execution_count": null,
   "metadata": {},
   "outputs": [],
   "source": []
  }
 ],
 "metadata": {
  "kernelspec": {
   "display_name": "Python 3",
   "language": "python",
   "name": "python3"
  },
  "language_info": {
   "codemirror_mode": {
    "name": "ipython",
    "version": 3
   },
   "file_extension": ".py",
   "mimetype": "text/x-python",
   "name": "python",
   "nbconvert_exporter": "python",
   "pygments_lexer": "ipython3",
   "version": "3.7.1"
  }
 },
 "nbformat": 4,
 "nbformat_minor": 2
}
